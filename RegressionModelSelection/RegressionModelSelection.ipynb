{
 "cells": [
  {
   "cell_type": "markdown",
   "metadata": {
    "id": "r3cas2_1T98w"
   },
   "source": [
    "# Regression Model Selection"
   ]
  },
  {
   "cell_type": "markdown",
   "metadata": {
    "id": "IODliia6U1xO"
   },
   "source": [
    "## Importing the basic libraries"
   ]
  },
  {
   "cell_type": "code",
   "execution_count": 3,
   "metadata": {
    "id": "y98nA5UdU6Hf"
   },
   "outputs": [],
   "source": [
    "import numpy as np\n",
    "import matplotlib.pyplot as plt\n",
    "import pandas as pd"
   ]
  },
  {
   "cell_type": "markdown",
   "metadata": {
    "id": "jpjZ43YlU8eI"
   },
   "source": [
    "## Importing the dataset"
   ]
  },
  {
   "cell_type": "code",
   "execution_count": 4,
   "metadata": {
    "id": "pLVaXoYVU_Uy"
   },
   "outputs": [],
   "source": [
    "dataset = pd.read_csv('dataset.csv')\n",
    "X = dataset.iloc[:, :-1].values\n",
    "y = dataset.iloc[:, -1].values\n",
    "ysvm = y.reshape(len(y),1)"
   ]
  },
  {
   "cell_type": "markdown",
   "metadata": {
    "id": "tPJXMyyUJbWn"
   },
   "source": [
    "## Splitting the dataset into the Training set and Test set"
   ]
  },
  {
   "cell_type": "code",
   "execution_count": 5,
   "metadata": {
    "id": "rFOzpjaiJd5B"
   },
   "outputs": [],
   "source": [
    "from sklearn.model_selection import train_test_split\n",
    "X_train, X_test, y_train, y_test = train_test_split(X, y, test_size = 0.2, random_state = 0)\n",
    "X_trainsvm, X_testsvm, y_trainsvm, y_testsvm = train_test_split(X, ysvm, test_size = 0.2, random_state = 0)"
   ]
  },
  {
   "cell_type": "markdown",
   "metadata": {
    "id": "5bU75GVthaOj"
   },
   "source": [
    "### Importing Machine Learning Algorithms"
   ]
  },
  {
   "cell_type": "code",
   "execution_count": 6,
   "metadata": {
    "id": "YF8HkKVYhag7"
   },
   "outputs": [],
   "source": [
    "from sklearn.linear_model import LinearRegression\n",
    "from sklearn.preprocessing import PolynomialFeatures\n",
    "from sklearn.ensemble import RandomForestRegressor\n",
    "from sklearn.tree import DecisionTreeRegressor\n",
    "from sklearn.svm import SVR"
   ]
  },
  {
   "cell_type": "markdown",
   "metadata": {
    "id": "g16qFkFQVC35"
   },
   "source": [
    "## Initializing different Regression algorithms"
   ]
  },
  {
   "cell_type": "code",
   "execution_count": 7,
   "metadata": {
    "id": "SLDKyv1SVUqS"
   },
   "outputs": [],
   "source": [
    "from sklearn.preprocessing import StandardScaler\n",
    "\n",
    "modelLR  = LinearRegression()\n",
    "\n",
    "poly_reg = PolynomialFeatures(degree = 4)\n",
    "X_poly   = poly_reg.fit_transform(X_train)\n",
    "modelPLR = LinearRegression()\n",
    "\n",
    "modelRFR = RandomForestRegressor(n_estimators = 10, random_state = 0)\n",
    "\n",
    "modelDTR = DecisionTreeRegressor(random_state = 0)\n",
    "\n",
    "modelSVR = SVR(kernel = 'rbf')\n",
    "\n",
    "sc_X     = StandardScaler()\n",
    "sc_y     = StandardScaler()\n",
    "X_trainsvm  = sc_X.fit_transform(X_trainsvm)\n",
    "y_trainsvm  = sc_y.fit_transform(y_trainsvm)"
   ]
  },
  {
   "cell_type": "markdown",
   "metadata": {
    "id": "ePPz0Lu6fXfN"
   },
   "source": [
    "### Training Regression algorithm"
   ]
  },
  {
   "cell_type": "code",
   "execution_count": 8,
   "metadata": {
    "id": "oHhA2uoyfEK2"
   },
   "outputs": [
    {
     "name": "stderr",
     "output_type": "stream",
     "text": [
      "C:\\Users\\harit\\anaconda3\\lib\\site-packages\\sklearn\\utils\\validation.py:63: DataConversionWarning: A column-vector y was passed when a 1d array was expected. Please change the shape of y to (n_samples, ), for example using ravel().\n",
      "  return f(*args, **kwargs)\n"
     ]
    },
    {
     "data": {
      "text/plain": [
       "SVR()"
      ]
     },
     "execution_count": 8,
     "metadata": {},
     "output_type": "execute_result"
    }
   ],
   "source": [
    "modelLR.fit(X_train, y_train)\n",
    "modelPLR.fit(X_poly, y_train)\n",
    "modelRFR.fit(X_train, y_train)\n",
    "modelDTR.fit(X_train, y_train)\n",
    "modelSVR.fit(X_trainsvm, y_trainsvm)"
   ]
  },
  {
   "cell_type": "markdown",
   "metadata": {
    "id": "Nao9cdO6IgNb"
   },
   "source": [
    "## Predicting the Test set for Validation"
   ]
  },
  {
   "cell_type": "code",
   "execution_count": 9,
   "metadata": {
    "id": "EebHA3EOIkQK"
   },
   "outputs": [],
   "source": [
    "modelLRy_pred  = modelLR.predict(X_test)\n",
    "modelPLRy_pred = modelPLR.predict(poly_reg.transform(X_test))\n",
    "modelRFRy_pred = modelRFR.predict(X_test)\n",
    "modelDTRy_pred = modelDTR.predict(X_test)\n",
    "modelSVRy_pred = sc_y.inverse_transform(modelSVR.predict(sc_X.transform(X_test)))"
   ]
  },
  {
   "cell_type": "markdown",
   "metadata": {
    "id": "V4nELFnnIod1"
   },
   "source": [
    "## Evaluating the Model Performance"
   ]
  },
  {
   "cell_type": "code",
   "execution_count": 10,
   "metadata": {
    "id": "_G2QS1UoIsTZ"
   },
   "outputs": [
    {
     "name": "stdout",
     "output_type": "stream",
     "text": [
      "Linear Regression Accuracy: 0.9325315554761303\n",
      "Polynomial Regression Accuracy: 0.9458193628375003\n",
      "Random Forest Regression Accuracy: 0.9615908334363876\n",
      "Decision Treee Regression Accuracy: 0.922905874177941\n",
      "Support Vector Regression Accuracy: 0.9480784049986258\n"
     ]
    }
   ],
   "source": [
    "from sklearn.metrics import r2_score\n",
    "print(\"Linear Regression Accuracy: {}\".format(r2_score(y_test, modelLRy_pred)))\n",
    "print(\"Polynomial Regression Accuracy: {}\".format(r2_score(y_test, modelPLRy_pred)))\n",
    "print(\"Random Forest Regression Accuracy: {}\".format(r2_score(y_test, modelRFRy_pred)))\n",
    "print(\"Decision Treee Regression Accuracy: {}\".format(r2_score(y_test, modelDTRy_pred)))\n",
    "print(\"Support Vector Regression Accuracy: {}\".format(r2_score(y_test, modelSVRy_pred)))"
   ]
  }
 ],
 "metadata": {
  "colab": {
   "collapsed_sections": [],
   "name": "18_RegressionModelSelection.ipynb",
   "provenance": []
  },
  "kernelspec": {
   "display_name": "Python 3 (ipykernel)",
   "language": "python",
   "name": "python3"
  },
  "language_info": {
   "codemirror_mode": {
    "name": "ipython",
    "version": 3
   },
   "file_extension": ".py",
   "mimetype": "text/x-python",
   "name": "python",
   "nbconvert_exporter": "python",
   "pygments_lexer": "ipython3",
   "version": "3.9.7"
  },
  "toc": {
   "base_numbering": 1,
   "nav_menu": {},
   "number_sections": false,
   "sideBar": true,
   "skip_h1_title": false,
   "title_cell": "Table of Contents",
   "title_sidebar": "Contents",
   "toc_cell": false,
   "toc_position": {},
   "toc_section_display": true,
   "toc_window_display": true
  }
 },
 "nbformat": 4,
 "nbformat_minor": 1
}
